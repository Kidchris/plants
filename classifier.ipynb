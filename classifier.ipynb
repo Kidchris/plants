{
  "nbformat": 4,
  "nbformat_minor": 0,
  "metadata": {
    "colab": {
      "name": "classifier.ipynb",
      "provenance": [],
      "collapsed_sections": [],
      "include_colab_link": true
    },
    "interpreter": {
      "hash": "61f16b98c194273433d28da8ad4eebd31a866a26d2fd43b3ba83f196243e57b5"
    },
    "kernelspec": {
      "display_name": "Python 3.8.8 64-bit ('base': conda)",
      "name": "python3"
    },
    "language_info": {
      "codemirror_mode": {
        "name": "ipython",
        "version": 3
      },
      "file_extension": ".py",
      "mimetype": "text/x-python",
      "name": "python",
      "nbconvert_exporter": "python",
      "pygments_lexer": "ipython3",
      "version": "3.8.8"
    },
    "accelerator": "GPU"
  },
  "cells": [
    {
      "cell_type": "markdown",
      "metadata": {
        "id": "view-in-github",
        "colab_type": "text"
      },
      "source": [
        "<a href=\"https://colab.research.google.com/github/Kidchris/plants/blob/main/classifier.ipynb\" target=\"_parent\"><img src=\"https://colab.research.google.com/assets/colab-badge.svg\" alt=\"Open In Colab\"/></a>"
      ]
    },
    {
      "cell_type": "markdown",
      "metadata": {
        "id": "LWVVK--8W3Hv"
      },
      "source": [
        "# Classifer code for plants anomalies detection \n",
        "## This is the code that can may be in a raspderry pi for classifing plants\n",
        "## The data is gathered from PlantVillage\n"
      ]
    },
    {
      "cell_type": "markdown",
      "metadata": {
        "id": "9fdsEkfHW3H4"
      },
      "source": [
        "## Importing essentials modules"
      ]
    },
    {
      "cell_type": "code",
      "metadata": {
        "id": "S3OpOr5uW3H7"
      },
      "source": [
        "# importing modules \n",
        "import tensorflow as tf\n",
        "import random\n",
        "import os\n",
        "import pickle\n",
        "import numpy as np\n",
        "import pandas as pd\n",
        "import cv2 as cv\n",
        "import matplotlib.pyplot as plt\n",
        "from sklearn.model_selection import train_test_split\n",
        "from sklearn.preprocessing import MinMaxScaler"
      ],
      "execution_count": 4,
      "outputs": []
    },
    {
      "cell_type": "code",
      "metadata": {
        "colab": {
          "base_uri": "https://localhost:8080/"
        },
        "id": "fH3OqO_wXGGL",
        "outputId": "45c9f3ed-079a-4cd9-c6e5-d5dc0c40eaef"
      },
      "source": [
        "from google.colab import drive\n",
        "drive.mount(\"/content/drive/\")\n"
      ],
      "execution_count": 5,
      "outputs": [
        {
          "output_type": "stream",
          "text": [
            "Mounted at /content/drive/\n"
          ],
          "name": "stdout"
        }
      ]
    },
    {
      "cell_type": "code",
      "metadata": {
        "id": "kcg7YO_2ZHIi"
      },
      "source": [
        "os.chdir(\"/content/drive/MyDrive\")"
      ],
      "execution_count": 6,
      "outputs": []
    },
    {
      "cell_type": "markdown",
      "metadata": {
        "id": "s2XotKQOW3IA"
      },
      "source": [
        "## Assining labels to corresponding index"
      ]
    },
    {
      "cell_type": "code",
      "metadata": {
        "id": "pY6rDIWPW3ID"
      },
      "source": [
        "# file = open(\"./PlantVillage-Dataset/labels.txt\")\n",
        "# text = file.readlines()\n",
        "# french = [\" \".join(i.split(\"_\")) for i in text]\n",
        "# len(text)\n",
        "# labels = {}\n",
        "# for i, el in enumerate(text):\n",
        "#     labels[i] = el.strip()\n",
        "assert os.getcwd() == \"/content/drive/MyDrive\"\n",
        "# !unzip color.zip -d data/"
      ],
      "execution_count": 7,
      "outputs": []
    },
    {
      "cell_type": "markdown",
      "metadata": {
        "id": "BG9OnMtEW3IG"
      },
      "source": [
        "## Gathering data and rearaging"
      ]
    },
    {
      "cell_type": "code",
      "metadata": {
        "id": "tYWPAulMW3IH"
      },
      "source": [
        "# Grabbing the data and loading them in numpy array\n",
        "\n",
        "# DATASET = []\n",
        "\n",
        "# paths = \"/home/chris/Desktop/plants/PlantVillage-Dataset/data_distribution_for_SVM/\"\n",
        "\n",
        "# for sets in os.listdir(paths):\n",
        "#     ttset = os.path.join(paths, sets)\n",
        "#     if ttset.endswith(\".txt\"):\n",
        "#         pass\n",
        "#     else:\n",
        "#         for classe in os.listdir(ttset):\n",
        "#             clas = os.path.join(ttset, classe)\n",
        "#             for files in os.listdir(clas):\n",
        "#                 file = os.path.join(clas, files)\n",
        "#                 tort = file.split(\"/\")\n",
        "#                 image = cv.imread(file)\n",
        "#                 image = cv.resize(image, (90, 90))\n",
        "#                 DATASET.append([image, labels[int(tort[-2])]])\n",
        "\n",
        "# ## Saving the data for future usage\n",
        "\n",
        "# DATASET = np.array(DATASET, dtype=\"object\")\n",
        "# np.save(\"./data.npy\", DATASET)\n",
        "### Load data\n",
        "# DATASET = np.load(\"./data.npy\", allow_pickle=True)"
      ],
      "execution_count": 8,
      "outputs": []
    },
    {
      "cell_type": "code",
      "metadata": {
        "id": "tuboj29eaAVa"
      },
      "source": [
        "# type(DATASET[-1][0])"
      ],
      "execution_count": 9,
      "outputs": []
    },
    {
      "cell_type": "markdown",
      "metadata": {
        "id": "m0GPVFT5W3IK"
      },
      "source": [
        "## Preview of one image"
      ]
    },
    {
      "cell_type": "code",
      "metadata": {
        "id": "ovFs5PBAW3IO"
      },
      "source": [
        "# plt.imshow(DATASET[-1][0], cmap=\"gray\")\n",
        "# plt.title(f'{DATASET[-1][1]}')\n",
        "# plt.show()"
      ],
      "execution_count": 10,
      "outputs": []
    },
    {
      "cell_type": "markdown",
      "metadata": {
        "id": "KBDOQZROW3IW"
      },
      "source": [
        "## Converting data to ndarray and doing cat codes"
      ]
    },
    {
      "cell_type": "code",
      "metadata": {
        "id": "R9atoqzBW3IZ"
      },
      "source": [
        "# DATASET\n",
        "# X = []\n",
        "# Y = []\n",
        "# for x,y in DATASET:\n",
        "#     # el = x.tolist()\n",
        "#     X.append(x)\n",
        "#     Y.append(y)\n",
        "\n",
        "# ## Preview\n",
        "\n",
        "# length = range(len(X))\n",
        "# plt.figure(figsize=(35, 25))\n",
        "\n",
        "# for nrows in range(1, 41):\n",
        "#     choice = random.choice(length)\n",
        "#     plt.subplot(5, 8, nrows)\n",
        "#     plt.imshow(X[choice], cmap=\"gray\", )\n",
        "#     plt.title(Y[choice])\n",
        "    \n",
        "\n",
        "# arr = np.array(np.array(X).reshape(-1, 90, 90, 1))\n",
        "# labels = np.array(pd.Series(Y).astype('category').cat.codes)"
      ],
      "execution_count": 11,
      "outputs": []
    },
    {
      "cell_type": "markdown",
      "metadata": {
        "id": "fEe8mhBiW3Id"
      },
      "source": [
        "# Preprocessing data "
      ]
    },
    {
      "cell_type": "markdown",
      "metadata": {
        "id": "XBfLm5uxW3If"
      },
      "source": [
        "## Train test Split into Three sets"
      ]
    },
    {
      "cell_type": "code",
      "metadata": {
        "id": "XzAEB07AW3Ig"
      },
      "source": [
        "# X_train, XTestSet, y_train, y_Testlabels = train_test_split(arr, labels, train_size=.6, random_state=42)\n",
        "# X_test, X_val, y_test, y_val = train_test_split(XTestSet, y_Testlabels, train_size=.9, random_state=42)"
      ],
      "execution_count": 12,
      "outputs": []
    },
    {
      "cell_type": "markdown",
      "metadata": {
        "id": "CYW80pxIW3Ii"
      },
      "source": [
        "### First processing ==> divide by 255"
      ]
    },
    {
      "cell_type": "code",
      "metadata": {
        "id": "60mVrjXkW3Il",
        "colab": {
          "base_uri": "https://localhost:8080/"
        },
        "outputId": "401a0b90-ec86-4515-b43e-8963e139ac0a"
      },
      "source": [
        "# X_train = X_train/255.0\n",
        "# X_test = X_test/255.0\n",
        "os.listdir('data')"
      ],
      "execution_count": 13,
      "outputs": [
        {
          "output_type": "execute_result",
          "data": {
            "text/plain": [
              "['data (1).npy', 'color']"
            ]
          },
          "metadata": {
            "tags": []
          },
          "execution_count": 13
        }
      ]
    },
    {
      "cell_type": "markdown",
      "metadata": {
        "id": "pSpbqUHyW3Il"
      },
      "source": [
        "## Convolution Model"
      ]
    },
    {
      "cell_type": "code",
      "metadata": {
        "id": "Hh3dcFPXW3Im"
      },
      "source": [
        "from tensorflow.keras.models import Sequential\n",
        "from tensorflow.keras.layers import Dense, MaxPool2D, Input, Activation, Conv2D, Flatten, Dropout, BatchNormalization"
      ],
      "execution_count": 14,
      "outputs": []
    },
    {
      "cell_type": "code",
      "metadata": {
        "id": "U7cO_MJ9W3Ir"
      },
      "source": [
        "# model = Sequential()\n",
        "# model.add(Input(shape=(90,90,1)))\n",
        "# model.add(Conv2D(filters = 16 ,kernel_size = (3, 3), activation=\"relu\"), padding='same')\n",
        "# model.add(Conv2D(filters = 32 ,kernel_size = (2, 2), activation=\"relu\"), padding='same')\n",
        "# model.add(MaxPool2D(pool_size=(2,2),strides=(2,2)))\n",
        "# model.add(BatchNormalization())\n",
        "\n",
        "# model.add(Conv2D(filters= 64, kernel_size=(2, 2), activation=\"relu\"))\n",
        "# model.add(Conv2D(filters= 128, kernel_size=(3, 3), activation=\"relu\"), padding='same')\n",
        "# model.add(MaxPool2D(pool_size=(2,2)))\n",
        "# model.add(BatchNormalization())\n",
        "\n",
        "# # model.add(Conv2D(filters= 16, kernel_size=(3, 3), activation=\"relu\"))\n",
        "# # model.add(BatchNormalization())\n",
        "# # model.add(MaxPool2D(pool_size=(2,2),strides=(2,2)))\n",
        "\n",
        "# model.add(Conv2D(filters= 256, kernel_size=(2, 2), activation=\"relu\"), padding='same')\n",
        "# model.add(Conv2D(filters= 528, kernel_size=(2, 2), activation=\"relu\"), padding='same')\n",
        "# model.add(MaxPool2D(pool_size=(2,2),strides=(2,2)))\n",
        "\n",
        "# model.add(Conv2D(filters= 5642, kernel_size=(2, 2), activation=\"relu\"))\n",
        "# model.add(Conv2D(filters= 2500, kernel_size=(2, 2), activation=\"relu\"), padding='same')\n",
        "# model.add(MaxPool2D(pool_size=(2,2)))\n",
        "# model.add(BatchNormalization())\n",
        "\n",
        "# # model.add(Conv2D(filters= 4, kernel_size=(2, 2), activation=\"relu\"))\n",
        "# # model.add(BatchNormalization())\n",
        "# # model.add(MaxPool2D())\n",
        "# # model.add(BatchNormalization())\n",
        "# # model.add()\n",
        "# # model.add()\n",
        "# model.add(Flatten())\n",
        "# model.add(Dropout(.5))\n",
        "# model.add(Dense(256, activation=\"relu\"))\n",
        "# model.add(Dropout(.5))\n",
        "# # model.add(Dense(128, activation=\"relu\"))\n",
        "# model.add(Dense(38, activation=\"softmax\"))"
      ],
      "execution_count": 15,
      "outputs": []
    },
    {
      "cell_type": "code",
      "metadata": {
        "id": "N1j2FWFTW3JD"
      },
      "source": [
        "# model.summary()"
      ],
      "execution_count": 16,
      "outputs": []
    },
    {
      "cell_type": "code",
      "metadata": {
        "id": "R6h2NkHpW3JE"
      },
      "source": [
        "# from tensorflow.keras.utils import plot_model\n",
        "# plot_model(model, to_file=\"convenetClassifier.png\")"
      ],
      "execution_count": 17,
      "outputs": []
    },
    {
      "cell_type": "code",
      "metadata": {
        "id": "KOjXcnj_W3JH"
      },
      "source": [
        "# print(np.unique(labels))"
      ],
      "execution_count": 18,
      "outputs": []
    },
    {
      "cell_type": "code",
      "metadata": {
        "id": "W5DAIqXsW3JI"
      },
      "source": [
        "# model.compile(  loss='sparse_categorical_crossentropy',\n",
        "#                 optimizer='adam',\n",
        "#                 metrics=['accuracy'])\n",
        "                \n",
        "# res = model.fit(X_train, y_train, epochs=25, validation_data=(X_test, y_test))"
      ],
      "execution_count": 19,
      "outputs": []
    },
    {
      "cell_type": "code",
      "metadata": {
        "id": "UABRo6l9dCTT"
      },
      "source": [
        "# print(f\"Train : {model.evaluate(X_train, y_train)}\\n Test : {model.evaluate(X_test, y_test)}\")"
      ],
      "execution_count": 20,
      "outputs": []
    },
    {
      "cell_type": "code",
      "metadata": {
        "id": "2Nj9YB3sdCNg"
      },
      "source": [
        "# import matplotlib.pyplot as plt\n",
        "\n",
        "# plt.figure(figsize=(12, 10))\n",
        "# plt.subplot(1,2,1)\n",
        "# plt.plot(res.history['loss'], label = \"train_loss\")\n",
        "# plt.plot(res.history['val_loss'], label = \"test_loss\")\n",
        "# plt.subplot(1,2,2)\n",
        "# plt.plot(res.history['accuracy'], label = \"train_accuracy\")\n",
        "# plt.plot(res.history['val_accuracy'], label = \"test_accuracy\")"
      ],
      "execution_count": 21,
      "outputs": []
    },
    {
      "cell_type": "code",
      "metadata": {
        "id": "YNus84cTdCGb"
      },
      "source": [
        ""
      ],
      "execution_count": 21,
      "outputs": []
    },
    {
      "cell_type": "markdown",
      "metadata": {
        "id": "voyOJDdkliJi"
      },
      "source": [
        "![87b870cb787ddd877ae5bec3477c0b89.jpg](data:image/jpeg;base64,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)"
      ]
    },
    {
      "cell_type": "markdown",
      "metadata": {
        "id": "wBgTqG72iYcJ"
      },
      "source": [
        "# ***Second section about google net performing***\n",
        "\n",
        "---\n",
        "> Now we are using the googlenet model to train with our data to see how it perform!\n",
        "\n",
        "\n",
        "\n",
        "\n",
        "\n"
      ]
    },
    {
      "cell_type": "code",
      "metadata": {
        "id": "IKYWyfrOjHFN"
      },
      "source": [
        "# X_Lenet = []\n",
        "# Y_Lenet = []\n",
        "# for x,y in DATASET:\n",
        "#     im = cv.cvtColor(x, cv.COLOR_GRAY2RGB)\n",
        "#     X_Lenet.append(im)\n",
        "#     Y_Lenet.append(y)\n",
        "\n",
        "# ## Preview\n",
        "\n",
        "# length = range(len(X_Lenet))\n",
        "# plt.figure(figsize=(35, 25))\n",
        "\n",
        "# for nrows in range(1, 41):\n",
        "#     choice = random.choice(length)\n",
        "#     plt.subplot(5, 8, nrows)\n",
        "#     plt.imshow(X_Lenet[choice], cmap=\"gray\", )\n",
        "#     plt.title(Y_Lenet[choice])\n",
        "    \n",
        "\n",
        "# x = np.array(np.array(X_Lenet).reshape(-1, 90, 90, 3))\n",
        "# y = np.array(pd.Series(Y_Lenet).astype('category').cat.codes)"
      ],
      "execution_count": 22,
      "outputs": []
    },
    {
      "cell_type": "code",
      "metadata": {
        "id": "guqGRDsMjHAv"
      },
      "source": [
        "# x_train, xTestSet, labels_train, labels_Testlabels = train_test_split(x, y, train_size=.6, random_state=42)\n",
        "# x_test, x_val, label_test, label_val = train_test_split(xTestSet, labels_Testlabels, train_size=.9, random_state=42)"
      ],
      "execution_count": 23,
      "outputs": []
    },
    {
      "cell_type": "code",
      "metadata": {
        "id": "P3VJ25o3s4PI"
      },
      "source": [
        "# from google.colab.patches import cv2_imshow as im\n",
        "# im(X_Lenet[0])\n",
        "# # im.waitKey(0)\n",
        "# # im.destroyAllWindows()"
      ],
      "execution_count": 24,
      "outputs": []
    },
    {
      "cell_type": "code",
      "metadata": {
        "id": "9wTYKcM7kkmR"
      },
      "source": [
        "path = \"data/color\""
      ],
      "execution_count": 25,
      "outputs": []
    },
    {
      "cell_type": "code",
      "metadata": {
        "id": "jFvhgqWbW3JP"
      },
      "source": [
        "# def inception_module(x,\n",
        "#                      filters_1x1,\n",
        "#                      filters_3x3_reduce,\n",
        "#                      filters_3x3,\n",
        "#                      filters_5x5_reduce,\n",
        "#                      filters_5x5,\n",
        "#                      filters_pool_proj,\n",
        "#                      name=None):\n",
        "    \n",
        "#     conv_1x1 = Conv2D(filters_1x1, (1, 1), padding='same', activation='relu', kernel_initializer=kernel_init, bias_initializer=bias_init)(x)\n",
        "    \n",
        "#     conv_3x3 = Conv2D(filters_3x3_reduce, (1, 1), padding='same', activation='relu', kernel_initializer=kernel_init, bias_initializer=bias_init)(x)\n",
        "#     conv_3x3 = Conv2D(filters_3x3, (3, 3), padding='same', activation='relu', kernel_initializer=kernel_init, bias_initializer=bias_init)(conv_3x3)\n",
        "\n",
        "#     conv_5x5 = Conv2D(filters_5x5_reduce, (1, 1), padding='same', activation='relu', kernel_initializer=kernel_init, bias_initializer=bias_init)(x)\n",
        "#     conv_5x5 = Conv2D(filters_5x5, (5, 5), padding='same', activation='relu', kernel_initializer=kernel_init, bias_initializer=bias_init)(conv_5x5)\n",
        "\n",
        "#     pool_proj = MaxPool2D((3, 3), strides=(1, 1), padding='same')(x)\n",
        "#     pool_proj = Conv2D(filters_pool_proj, (1, 1), padding='same', activation='relu', kernel_initializer=kernel_init, bias_initializer=bias_init)(pool_proj)\n",
        "\n",
        "#     output = concatenate([conv_1x1, conv_3x3, conv_5x5, pool_proj], axis=3, name=name)\n",
        "    \n",
        "#     return output"
      ],
      "execution_count": 26,
      "outputs": []
    },
    {
      "cell_type": "code",
      "metadata": {
        "id": "aph2crmv_zA0"
      },
      "source": [
        "# kernel_init = keras.initializers.glorot_uniform()\n",
        "# bias_init = keras.initializers.Constant(value=0.2)"
      ],
      "execution_count": 27,
      "outputs": []
    },
    {
      "cell_type": "code",
      "metadata": {
        "id": "jwcyxsYRF5FN"
      },
      "source": [
        "# from keras.models import Model\n",
        "# from keras.layers import Conv2D, MaxPool2D,  \\\n",
        "#     Dropout, Dense, Input, concatenate,      \\\n",
        "#     GlobalAveragePooling2D, AveragePooling2D,\\\n",
        "#     Flatten\n",
        "\n",
        "# import cv2 \n",
        "# import numpy as np \n",
        "# from keras.datasets import cifar10 \n",
        "# from keras import backend as K \n",
        "# from keras.utils import np_utils\n",
        "\n",
        "# import math \n",
        "# from keras.optimizers import SGD \n",
        "# from keras.callbacks import LearningRateScheduler"
      ],
      "execution_count": 28,
      "outputs": []
    },
    {
      "cell_type": "code",
      "metadata": {
        "id": "eJNAqyyI4TrU"
      },
      "source": [
        "# epochs = 25\n",
        "# initial_lrate = 0.01\n",
        "\n",
        "# def decay(epoch, steps=100):\n",
        "#     initial_lrate = 0.01\n",
        "#     drop = 0.96\n",
        "#     epochs_drop = 8\n",
        "#     lrate = initial_lrate * math.pow(drop, math.floor((1+epoch)/epochs_drop))\n",
        "#     return lrate\n",
        "\n",
        "# sgd = SGD(lr=initial_lrate, momentum=0.9, nesterov=False)\n",
        "\n",
        "# lr_sc = LearningRateScheduler(decay, verbose=1)\n",
        "\n",
        "# model.compile(loss=['sparse_categorical_crossentropy'], optimizer=sgd, metrics=['accuracy'])"
      ],
      "execution_count": 29,
      "outputs": []
    },
    {
      "cell_type": "code",
      "metadata": {
        "colab": {
          "base_uri": "https://localhost:8080/"
        },
        "id": "6J3BF7RNG8Js",
        "outputId": "ee59c853-4bb7-43c7-acee-ec3d197b393a"
      },
      "source": [
        "train_dataset = tf.keras.preprocessing.image_dataset_from_directory(path,image_size=(224, 224), validation_split=0.2, subset=\"training\", seed=42)\n",
        "val_dataset = tf.keras.preprocessing.image_dataset_from_directory(path,image_size=(224, 224), validation_split=0.2, subset=\"validation\", seed=42)\n"
      ],
      "execution_count": 30,
      "outputs": [
        {
          "output_type": "stream",
          "text": [
            "Found 54305 files belonging to 38 classes.\n",
            "Using 43444 files for training.\n",
            "Found 54305 files belonging to 38 classes.\n",
            "Using 10861 files for validation.\n"
          ],
          "name": "stdout"
        }
      ]
    },
    {
      "cell_type": "code",
      "metadata": {
        "id": "QTToWxn-MC4q"
      },
      "source": [
        "# len(dataset)"
      ],
      "execution_count": 31,
      "outputs": []
    },
    {
      "cell_type": "code",
      "metadata": {
        "id": "zEhahfqMidPi"
      },
      "source": [
        "from tensorflow.keras.applications import inception_v3"
      ],
      "execution_count": 32,
      "outputs": []
    },
    {
      "cell_type": "code",
      "metadata": {
        "id": "I8dxR1OsidJz"
      },
      "source": [
        "model_2 = tf.keras.applications.InceptionV3(include_top=True,\n",
        "    weights=None,\n",
        "    input_shape=(224, 224, 3),\n",
        "    classes=38,\n",
        "    classifier_activation=\"softmax\")\n"
      ],
      "execution_count": 33,
      "outputs": []
    },
    {
      "cell_type": "code",
      "metadata": {
        "id": "IIzPBOQjiyxz"
      },
      "source": [
        "model_2.compile(loss=[\"sparse_categorical_crossentropy\"], metrics=[\"accuracy\"], optimizer=\"adam\")"
      ],
      "execution_count": 34,
      "outputs": []
    },
    {
      "cell_type": "code",
      "metadata": {
        "id": "aK8mjBhSrIjx",
        "colab": {
          "base_uri": "https://localhost:8080/"
        },
        "outputId": "030e379b-5862-4277-b890-6acab8ea971f"
      },
      "source": [
        "res = model_2.fit(train_dataset, epochs=5, validation_data=val_dataset, batch_size=100)"
      ],
      "execution_count": null,
      "outputs": [
        {
          "output_type": "stream",
          "text": [
            "Epoch 1/5\n",
            "  24/1358 [..............................] - ETA: 7:45:30 - loss: 3.1400 - accuracy: 0.2513"
          ],
          "name": "stdout"
        }
      ]
    },
    {
      "cell_type": "code",
      "metadata": {
        "id": "bqU0IUr06vBa"
      },
      "source": [
        "plt.plot(res.history['loss'], label='train')\n",
        "plt.plot(res.history['val_loss'], label='test')\n",
        "plt.plot(res.history['accuracy'], label='train')\n",
        "plt.plot(res.history['val_accuracy'], label='test')\n",
        "plt.legend()"
      ],
      "execution_count": null,
      "outputs": []
    },
    {
      "cell_type": "code",
      "metadata": {
        "id": "px911S5f_LWx"
      },
      "source": [
        "##  Save model to json file\n",
        "model_json = model.to_json()\n",
        "with open(\"model.json\", \"w\") as json_file:\n",
        "    json_file.write(model_json)\n",
        "# serialize weights to HDF5\n",
        "model.save_weights(\"model.h5\")\n",
        "print(\"Saved model to disk\")"
      ],
      "execution_count": null,
      "outputs": []
    },
    {
      "cell_type": "code",
      "metadata": {
        "id": "Poyb-TAZ3O-2"
      },
      "source": [
        "# serialize model to YAML\n",
        "model_yaml = model.to_yaml()\n",
        "with open(\"model.yaml\", \"w\") as yaml_file:\n",
        "    yaml_file.write(model_yaml)\n",
        "# serialize weights to HDF5\n",
        "model.save_weights(\"model.h5\")\n",
        "print(\"Saved model to disk\")"
      ],
      "execution_count": null,
      "outputs": []
    },
    {
      "cell_type": "code",
      "metadata": {
        "id": "XYJ-QMFt3O62"
      },
      "source": [
        "model.save(\"model.h5\")\n",
        "print(\"Saved model to disk\")"
      ],
      "execution_count": null,
      "outputs": []
    },
    {
      "cell_type": "code",
      "metadata": {
        "id": "-dEToLAH4k9m"
      },
      "source": [
        "scores = model.evaluate(train_dataset, verbose=0)\n",
        "print(\"%s: %.2f%%\" % (model.metrics_names[1], scores[1]*100))"
      ],
      "execution_count": null,
      "outputs": []
    }
  ]
}